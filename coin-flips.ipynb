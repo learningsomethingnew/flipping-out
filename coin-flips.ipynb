{
 "cells": [
  {
   "cell_type": "code",
   "execution_count": 1,
   "metadata": {
    "collapsed": true
   },
   "outputs": [],
   "source": [
    "%matplotlib inline\n",
    "import math\n",
    "import random\n",
    "import statistics as st\n",
    "import numpy as np\n",
    "import matplotlib.pyplot as plt\n",
    "\n",
    "from stack import Stack"
   ]
  },
  {
   "cell_type": "code",
   "execution_count": 2,
   "metadata": {
    "collapsed": true
   },
   "outputs": [],
   "source": [
    "# list of stack instances that will have data stored.\n",
    "heads_list = []\n",
    "tails_list = []"
   ]
  },
  {
   "cell_type": "code",
   "execution_count": 3,
   "metadata": {
    "collapsed": true
   },
   "outputs": [],
   "source": [
    "# flips a coin and returns a \n",
    "# 1 for heads or 2 for tails\n",
    "def coin_flip():\n",
    "    return random.randint(1,2)"
   ]
  },
  {
   "cell_type": "code",
   "execution_count": 4,
   "metadata": {
    "collapsed": true
   },
   "outputs": [],
   "source": [
    "# ask users for the base & power. This will determine how many\n",
    "# intervals for the sim to run.\n",
    "def get_base_power():\n",
    "    print(\"Coin Sim 1.0\\n To run the simulation, please enter the base.\")\n",
    "    base = int(input(\">>> \"))\n",
    "    power = int(input(\"Please input the power\\n>>> \"))\n",
    "    return base, power"
   ]
  },
  {
   "cell_type": "code",
   "execution_count": 5,
   "metadata": {
    "collapsed": true
   },
   "outputs": [],
   "source": [
    "# storing the heads/tails results in Stack instances\n",
    "# to prevent tests scores being skewed.\n",
    "def create_instances(base, power):\n",
    "    for i, a_num in enumerate(range(power)):\n",
    "        temp_cap = base**(i+1)\n",
    "        print(\"The cap is {} for index {}\".format(temp_cap, i))\n",
    "        heads_list.append(Stack(temp_cap, None))\n",
    "        tails_list.append(Stack(temp_cap, None))"
   ]
  },
  {
   "cell_type": "code",
   "execution_count": 6,
   "metadata": {
    "collapsed": true
   },
   "outputs": [],
   "source": [
    "def print_tails_heads(num):\n",
    "    print(\"Heads List cap is {}, the length is {} and index {}\".format(heads_list[num].get_capacity(), heads_list[num].stack_len(), num))\n",
    "    print(\"Tails list cap is {}, the length is {} and index {}\".format(tails_list[num].get_capacity(), heads_list[num].stack_len(), num))"
   ]
  },
  {
   "cell_type": "code",
   "execution_count": 7,
   "metadata": {
    "collapsed": true
   },
   "outputs": [],
   "source": [
    "# sim to flip coins. Num of cycles = the ammonut of sims run.\n",
    "# power ='s the index that the results of the sim to be\n",
    "#     stored in.\n",
    "def coin_sim(base_power, index): \n",
    "    print(\"number of cycles = {} and the index we are pushing to is {}\".format(base_power, index))\n",
    "    for num in range(base_power+1):\n",
    "        print_tails_heads(index)\n",
    "        if coin_flip() == 1:\n",
    "            print(\"^^^^^^^^HEADS. the index is {}\".format(index))\n",
    "            heads_list[index].push(1)\n",
    "        else:\n",
    "            print(\"********TAILS. the index is {}\".format(index))\n",
    "            tails_list[index].push(1)"
   ]
  },
  {
   "cell_type": "code",
   "execution_count": null,
   "metadata": {
    "collapsed": true
   },
   "outputs": [],
   "source": [
    "\n",
    "def main():\n",
    "    #initializing the variables needed for coin sim\n",
    "    base, power = get_base_power()\n",
    "    create_instances(base, power) \n",
    "    \n",
    "    #test lists for status\n",
    "    #print_tails_heads(power)\n",
    "    \n",
    "    #start the coin sim\n",
    "    temp_cycles = 0\n",
    "    for num in range(power):\n",
    "        #print(\"current base is {}. Base is raised to the {}. Base**power ='s {}\".format(base, (num+1), (base**(num+1))))\n",
    "        temp_cycles = base**(num+1)\n",
    "        print(\"MAIN INDEX is {}\".format(num))\n",
    "        coin_sim(temp_cycles, num) \n",
    "       \n",
    "\n",
    "main()\n",
    "        "
   ]
  }
 ],
 "metadata": {
  "kernelspec": {
   "display_name": "Python 3",
   "language": "python",
   "name": "python3"
  },
  "language_info": {
   "codemirror_mode": {
    "name": "ipython",
    "version": 3
   },
   "file_extension": ".py",
   "mimetype": "text/x-python",
   "name": "python",
   "nbconvert_exporter": "python",
   "pygments_lexer": "ipython3",
   "version": "3.5.1"
  }
 },
 "nbformat": 4,
 "nbformat_minor": 0
}
